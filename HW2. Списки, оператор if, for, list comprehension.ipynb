{
 "cells": [
  {
   "cell_type": "markdown",
   "metadata": {},
   "source": [
    "# ДОМАШНЯЯ РАБОТА №2"
   ]
  },
  {
   "cell_type": "markdown",
   "metadata": {},
   "source": [
    "Данильченко Вадим"
   ]
  },
  {
   "cell_type": "code",
   "execution_count": 5,
   "metadata": {},
   "outputs": [],
   "source": [
    "# Задание1: фильтр списка \n",
    "\"\"\"\n",
    "Дан список с визитами по городам и странам. Напишите код, который возвращает отфильтрованный список geo_logs, \n",
    "содержащий только визиты из России. Считайте, что список geo_logs легко помещается в оперативной памяти.\n",
    "\"\"\"\n",
    "geo_logs = [\n",
    "['visit1', ['Москва', 'Россия']],\n",
    "['visit2', ['Дели', 'Индия']],\n",
    "['visit3', ['Владимир', 'Россия']],\n",
    "['visit4', ['Лиссабон', 'Португалия']],\n",
    "['visit5', ['Париж', 'Франция']],\n",
    "['visit6', ['Лиссабон', 'Португалия']],\n",
    "['visit7', ['Тула', 'Россия']],\n",
    "['visit8', ['Тула', 'Россия']],\n",
    "['visit9', ['Курск', 'Россия']],\n",
    "['visit10', ['Архангельск', 'Россия']],\n",
    "]"
   ]
  },
  {
   "cell_type": "code",
   "execution_count": 9,
   "metadata": {},
   "outputs": [
    {
     "data": {
      "text/plain": [
       "[['visit1', ['Москва', 'Россия']],\n",
       " ['visit3', ['Владимир', 'Россия']],\n",
       " ['visit7', ['Тула', 'Россия']],\n",
       " ['visit8', ['Тула', 'Россия']],\n",
       " ['visit9', ['Курск', 'Россия']],\n",
       " ['visit10', ['Архангельск', 'Россия']]]"
      ]
     },
     "execution_count": 9,
     "metadata": {},
     "output_type": "execute_result"
    }
   ],
   "source": [
    "#Решение\n",
    "[x for x in geo_logs if x[1][1]=='Россия']"
   ]
  },
  {
   "cell_type": "code",
   "execution_count": 10,
   "metadata": {},
   "outputs": [],
   "source": [
    "# Задание2: уникальные элементы во вложенном спике значений словаря\n",
    "\"\"\"\n",
    "Выведите на экран все уникальные гео-ID из значений словаря ids. Т. е. список вида [213, 15, 54, 119, 98, 35]\n",
    "\"\"\"\n",
    "ids = {'user1': [213, 213, 213, 15, 213], 'user2': [54, 54, 119, 119, 119], 'user3': [213, 98, 98, 35]}"
   ]
  },
  {
   "cell_type": "code",
   "execution_count": 19,
   "metadata": {},
   "outputs": [
    {
     "data": {
      "text/plain": [
       "[213, 15, 54, 119, 98, 35]"
      ]
     },
     "execution_count": 19,
     "metadata": {},
     "output_type": "execute_result"
    }
   ],
   "source": [
    "#Решение\n",
    "geo_ids=[]\n",
    "for line in ids.values():\n",
    "    for val in line:\n",
    "        if val not in geo_ids:\n",
    "            geo_ids.append(val)\n",
    "geo_ids"
   ]
  },
  {
   "cell_type": "code",
   "execution_count": 21,
   "metadata": {},
   "outputs": [],
   "source": [
    "# Задание3: разделение строковых элементов списка по словам, распределение по итоговой группировке\n",
    "\"\"\"\n",
    "Список поисковых запросов. Получить распределение количества слов в них. \n",
    "Т. е. поисковых запросов из одного слова 5%, из двух - 7%, из трех - 3% итд.\n",
    "\"\"\"\n",
    "queries = [\n",
    "'смотреть сериалы онлайн',\n",
    "'новости спорта',\n",
    "'афиша кино',\n",
    "'курс доллара',\n",
    "'сериалы этим летом',\n",
    "'курс по питону',\n",
    "'сериалы про спорт',\n",
    "]"
   ]
  },
  {
   "cell_type": "code",
   "execution_count": 108,
   "metadata": {},
   "outputs": [
    {
     "data": {
      "text/plain": [
       "{'слов в запросе 3': '57%', 'слов в запросе 2': '43%'}"
      ]
     },
     "execution_count": 108,
     "metadata": {},
     "output_type": "execute_result"
    }
   ],
   "source": [
    "#Решение\n",
    "cnt=[] #количество слов в строке\n",
    "result={} #для хранения уникальных записей\n",
    "res={} #итог\n",
    "#посчитаем количество слов в строке\n",
    "for words in queries:\n",
    "    cnt.append(len(words.split(' ')))\n",
    "# сгруппируем по уникальным ключам  \n",
    "for i in cnt:\n",
    "    if 'слов в запросе {}'.format(i) in result.keys():\n",
    "        result['слов в запросе {}'.format(i)]+=1\n",
    "    else:\n",
    "        result.setdefault('слов в запросе {}'.format(i),0)\n",
    "        result['слов в запросе {}'.format(i)]=1\n",
    "# посчитаем долю соответствующей длины запросов в общем числе\n",
    "for i in result:\n",
    "    res.setdefault(i,0)\n",
    "    res[i]=str(round(100*result[i]/sum(result.values())))+ '%'\n",
    "res"
   ]
  },
  {
   "cell_type": "code",
   "execution_count": 110,
   "metadata": {},
   "outputs": [],
   "source": [
    "# Задание4: вывести ключ с максимальным значением в списке\n",
    "\"\"\"\n",
    "Дана статистика рекламных каналов по объемам продаж. Напишите скрипт, который возвращает название канала с максимальным объемом.\n",
    "Т. е. в данном примере скрипт должен возвращать 'yandex'.\n",
    "\"\"\"\n",
    "stats = {'facebook': 55, 'yandex': 120, 'vk': 115, 'google': 99, 'email': 42, 'ok': 98}"
   ]
  },
  {
   "cell_type": "code",
   "execution_count": 121,
   "metadata": {},
   "outputs": [
    {
     "name": "stdout",
     "output_type": "stream",
     "text": [
      "канал с максимальным объемом: yandex\n"
     ]
    }
   ],
   "source": [
    "#решение1: считаем, что можем загрузить все значения справочника в память\n",
    "max_vol=max(stats.values())\n",
    "for key in stats.keys():\n",
    "    if stats[key]==max_vol:\n",
    "        print('канал с максимальным объемом: '+str(key))"
   ]
  },
  {
   "cell_type": "code",
   "execution_count": 125,
   "metadata": {},
   "outputs": [
    {
     "name": "stdout",
     "output_type": "stream",
     "text": [
      "канал с максимальным объемом: yandex\n"
     ]
    }
   ],
   "source": [
    "#решение2: считаем, что не можем загрузить все значения справочника в память\n",
    "max_vol=0\n",
    "max_chan=''\n",
    "for key in stats.keys():\n",
    "    if max_vol<stats[key]:\n",
    "        max_vol=stats[key]\n",
    "        max_chan=key\n",
    "print('канал с максимальным объемом: '+max_chan)"
   ]
  },
  {
   "cell_type": "code",
   "execution_count": 3,
   "metadata": {},
   "outputs": [],
   "source": [
    "# Задание5: максимальное значение списка\n",
    "\"\"\"\n",
    "Дан поток логов по количеству просмотренных страниц для каждого пользователя. \n",
    "Список отсортирован по ID пользователя. Вам необходимо написать алгоритм, \n",
    "который считает среднее значение просмотров на пользователя. \n",
    "Т. е. надо посчитать отношение суммы всех просмотров к количеству уникальных пользователей. \n",
    "Учтите, что весь список stream не помещается в оперативную память, т. е. его нужно обрабатывать поэлементно в цикле.\n",
    "\"\"\"\n",
    "stream = [\n",
    "'2018-01-01,user1,3',\n",
    "'2018-01-07,user1,4',\n",
    "'2018-03-29,user1,1',\n",
    "'2018-04-04,user1,13',\n",
    "'2018-01-05,user2,7',\n",
    "'2018-06-14,user3,4',\n",
    "'2018-07-02,user3,10',\n",
    "'2018-03-21,user4,19',\n",
    "'2018-03-22,user4,4',\n",
    "'2018-04-22,user4,8',\n",
    "'2018-05-03,user4,9',\n",
    "'2018-05-11,user4,11',\n",
    "]"
   ]
  },
  {
   "cell_type": "code",
   "execution_count": 13,
   "metadata": {},
   "outputs": [
    {
     "data": {
      "text/plain": [
       "'среднее количество просмотров на уникального пользователя: 23'"
      ]
     },
     "execution_count": 13,
     "metadata": {},
     "output_type": "execute_result"
    }
   ],
   "source": [
    "#Решение\n",
    "summ=0\n",
    "cnt_uniq=[]\n",
    "for line in stream:\n",
    "    summ+=int(line.split(',')[-1])\n",
    "    if line.split(',')[-2] not in cnt_uniq:\n",
    "        cnt_uniq.append(line.split(',')[-2])\n",
    "'среднее количество просмотров на уникального пользователя: {}'.format(round(summ/len(cnt_uniq)))"
   ]
  },
  {
   "cell_type": "code",
   "execution_count": 11,
   "metadata": {},
   "outputs": [],
   "source": [
    "# Задание6: поиск значения по двум ключам той же линии списка\n",
    "\"\"\"\n",
    "Дана статистика рекламных кампаний по дням. Напишите алгоритм, который по паре дата-кампания ищет значение численного столбца. \n",
    "Т. е. для даты '2018-01-01' и 'google' нужно получить число 25. \n",
    "Считайте, что все комбинации дата-кампания уникальны, а список stats легко помещается в оперативной памяти.\n",
    "\"\"\"\n",
    "stats = [\n",
    "['2018-01-01', 'google', 25],\n",
    "['2018-01-01', 'yandex', 65],\n",
    "['2018-01-01', 'market', 89],\n",
    "['2018-01-02', 'google', 574],\n",
    "['2018-01-02', 'yandex', 249],\n",
    "['2018-01-02', 'market', 994],\n",
    "['2018-01-03', 'google', 1843],\n",
    "['2018-01-03', 'yandex', 1327],\n",
    "['2018-01-03', 'market', 1764],\n",
    "]"
   ]
  },
  {
   "cell_type": "code",
   "execution_count": 41,
   "metadata": {},
   "outputs": [
    {
     "name": "stdout",
     "output_type": "stream",
     "text": [
      "для даты \"2018-01-01\" и \"google\" количество рекламных компаний 25\n"
     ]
    }
   ],
   "source": [
    "#Решение 1\n",
    "intersect=['2018-01-01', 'google']\n",
    "for line in stats:\n",
    "    if intersect[0] in line and intersect[1] in line:\n",
    "        print('для даты \"{}\" и \"{}\" количество рекламных компаний {}'.format(line[0],line[1],line[-1]))"
   ]
  },
  {
   "cell_type": "code",
   "execution_count": 54,
   "metadata": {},
   "outputs": [
    {
     "data": {
      "text/plain": [
       "'для даты \"2018-01-01\" и \"google\" количество рекламных компаний 25'"
      ]
     },
     "execution_count": 54,
     "metadata": {},
     "output_type": "execute_result"
    }
   ],
   "source": [
    "#Решение 2\n",
    "intersect={}\n",
    "date='2018-01-01'\n",
    "company='google'\n",
    "for line in stats:\n",
    "    intersect.setdefault(line[0],{line[1]:0})\n",
    "    intersect[line[0]][line[1]]=line[2]\n",
    "'для даты \"{}\" и \"{}\" количество рекламных компаний {}'.format(date,company,intersect[date][company])"
   ]
  },
  {
   "cell_type": "code",
   "execution_count": 2,
   "metadata": {},
   "outputs": [
    {
     "data": {
      "text/plain": [
       "'\\nРассмотрите обобщенный вариант этой задачи: имеется таблица из n столбцов. \\nПервые n-1 столбцов - признаки (комбинации этих признаков в таблице уникальные). Последний столбец - значение. \\nВам необходимо по набору n-1 признаков найти соответствующую строчку в таблице и вернуть значение из правого столбца. \\nУчтите, что исходная таблица может быть любого размера.\\n\\nОдно из применений задачи - объединение двух таблиц по n столбцов, одна из которых помещается в оперативной памяти. \\nНапример, 7 столбцов по 1 и 10 миллионов строк.\\n'"
      ]
     },
     "execution_count": 2,
     "metadata": {},
     "output_type": "execute_result"
    }
   ],
   "source": [
    "# Бонусный вариант: аналог задания 6 для динамического количества столбцов\n",
    "\"\"\"\n",
    "Рассмотрите обобщенный вариант этой задачи: имеется таблица из n столбцов. \n",
    "Первые n-1 столбцов - признаки (комбинации этих признаков в таблице уникальные). Последний столбец - значение. \n",
    "Вам необходимо по набору n-1 признаков найти соответствующую строчку в таблице и вернуть значение из правого столбца. \n",
    "Учтите, что исходная таблица может быть любого размера.\n",
    "\n",
    "Одно из применений задачи - объединение двух таблиц по n столбцов, одна из которых помещается в оперативной памяти. \n",
    "Например, 7 столбцов по 1 и 10 миллионов строк.\n",
    "\"\"\""
   ]
  },
  {
   "cell_type": "code",
   "execution_count": 25,
   "metadata": {},
   "outputs": [
    {
     "name": "stdout",
     "output_type": "stream",
     "text": [
      "количество рекламных компаний 25\n"
     ]
    }
   ],
   "source": [
    "#Решение\n",
    "stats = [\n",
    "['2018-01-01', 'google', 'translate', 25],\n",
    "['2018-01-01', 'yandex', 65],\n",
    "['2018-01-01', 'market', 89],\n",
    "['2018-01-02', 'google', 574],\n",
    "['2018-01-02', 'yandex', 249],\n",
    "['2018-01-02', 'market', 994],\n",
    "['2018-01-03', 'google', 1843],\n",
    "['2018-01-03', 'yandex', 1327],\n",
    "['2018-01-03', 'market', 1764],\n",
    "]\n",
    "intersect=['2018-01-01', 'google','translate']\n",
    "#intersect=['2018-01-03', 'yandex']\n",
    "cnt_ints=0\n",
    "for line in stats:\n",
    "    for elems in intersect:\n",
    "        if elems in line:\n",
    "            cnt_ints+=1\n",
    "    if cnt_ints==len(intersect):\n",
    "        print('количество рекламных компаний {}'.format(line[-1]))\n",
    "    cnt_ints=0"
   ]
  }
 ],
 "metadata": {
  "kernelspec": {
   "display_name": "Python 3",
   "language": "python",
   "name": "python3"
  },
  "language_info": {
   "codemirror_mode": {
    "name": "ipython",
    "version": 3
   },
   "file_extension": ".py",
   "mimetype": "text/x-python",
   "name": "python",
   "nbconvert_exporter": "python",
   "pygments_lexer": "ipython3",
   "version": "3.7.0"
  }
 },
 "nbformat": 4,
 "nbformat_minor": 2
}
