{
 "cells": [
  {
   "cell_type": "markdown",
   "metadata": {},
   "source": [
    "# ДОМАШНЯЯ РАБОТА ПО ТЕМЕ \"Функции потерь и оптимизация\""
   ]
  },
  {
   "cell_type": "markdown",
   "metadata": {},
   "source": [
    "Данильченко Вадим"
   ]
  },
  {
   "cell_type": "markdown",
   "metadata": {},
   "source": [
    "ЗАДАНИЕ:\n",
    "Дана статистика пользователей adult.csv.\n",
    "\n",
    "Получите значения AUC для различных моделей и их параметров. Попробуйте построить модель с улучшенным значением AUC, чем в примерах на занятии (LogisticRegression, AUC: 0.6311452091928271 на коротком наборе фичей)."
   ]
  },
  {
   "cell_type": "code",
   "execution_count": 38,
   "metadata": {},
   "outputs": [
    {
     "data": {
      "text/html": [
       "<div>\n",
       "<style scoped>\n",
       "    .dataframe tbody tr th:only-of-type {\n",
       "        vertical-align: middle;\n",
       "    }\n",
       "\n",
       "    .dataframe tbody tr th {\n",
       "        vertical-align: top;\n",
       "    }\n",
       "\n",
       "    .dataframe thead th {\n",
       "        text-align: right;\n",
       "    }\n",
       "</style>\n",
       "<table border=\"1\" class=\"dataframe\">\n",
       "  <thead>\n",
       "    <tr style=\"text-align: right;\">\n",
       "      <th></th>\n",
       "      <th>rate_marriage</th>\n",
       "      <th>age</th>\n",
       "      <th>yrs_married</th>\n",
       "      <th>children</th>\n",
       "      <th>religious</th>\n",
       "      <th>educ</th>\n",
       "      <th>occupation</th>\n",
       "      <th>occupation_husb</th>\n",
       "      <th>affair</th>\n",
       "    </tr>\n",
       "  </thead>\n",
       "  <tbody>\n",
       "    <tr>\n",
       "      <th>0</th>\n",
       "      <td>3.0</td>\n",
       "      <td>32.0</td>\n",
       "      <td>9.0</td>\n",
       "      <td>3.0</td>\n",
       "      <td>3.0</td>\n",
       "      <td>17.0</td>\n",
       "      <td>2.0</td>\n",
       "      <td>5.0</td>\n",
       "      <td>1</td>\n",
       "    </tr>\n",
       "    <tr>\n",
       "      <th>1</th>\n",
       "      <td>3.0</td>\n",
       "      <td>27.0</td>\n",
       "      <td>13.0</td>\n",
       "      <td>3.0</td>\n",
       "      <td>1.0</td>\n",
       "      <td>14.0</td>\n",
       "      <td>3.0</td>\n",
       "      <td>4.0</td>\n",
       "      <td>1</td>\n",
       "    </tr>\n",
       "    <tr>\n",
       "      <th>2</th>\n",
       "      <td>4.0</td>\n",
       "      <td>22.0</td>\n",
       "      <td>2.5</td>\n",
       "      <td>0.0</td>\n",
       "      <td>1.0</td>\n",
       "      <td>16.0</td>\n",
       "      <td>3.0</td>\n",
       "      <td>5.0</td>\n",
       "      <td>1</td>\n",
       "    </tr>\n",
       "    <tr>\n",
       "      <th>3</th>\n",
       "      <td>4.0</td>\n",
       "      <td>37.0</td>\n",
       "      <td>16.5</td>\n",
       "      <td>4.0</td>\n",
       "      <td>3.0</td>\n",
       "      <td>16.0</td>\n",
       "      <td>5.0</td>\n",
       "      <td>5.0</td>\n",
       "      <td>1</td>\n",
       "    </tr>\n",
       "    <tr>\n",
       "      <th>4</th>\n",
       "      <td>5.0</td>\n",
       "      <td>27.0</td>\n",
       "      <td>9.0</td>\n",
       "      <td>1.0</td>\n",
       "      <td>1.0</td>\n",
       "      <td>14.0</td>\n",
       "      <td>3.0</td>\n",
       "      <td>4.0</td>\n",
       "      <td>1</td>\n",
       "    </tr>\n",
       "  </tbody>\n",
       "</table>\n",
       "</div>"
      ],
      "text/plain": [
       "   rate_marriage   age  yrs_married  children  religious  educ  occupation  \\\n",
       "0            3.0  32.0          9.0       3.0        3.0  17.0         2.0   \n",
       "1            3.0  27.0         13.0       3.0        1.0  14.0         3.0   \n",
       "2            4.0  22.0          2.5       0.0        1.0  16.0         3.0   \n",
       "3            4.0  37.0         16.5       4.0        3.0  16.0         5.0   \n",
       "4            5.0  27.0          9.0       1.0        1.0  14.0         3.0   \n",
       "\n",
       "   occupation_husb  affair  \n",
       "0              5.0       1  \n",
       "1              4.0       1  \n",
       "2              5.0       1  \n",
       "3              5.0       1  \n",
       "4              4.0       1  "
      ]
     },
     "execution_count": 38,
     "metadata": {},
     "output_type": "execute_result"
    }
   ],
   "source": [
    "import pandas as pd\n",
    "data = pd.read_csv('affair_data.csv')\n",
    "data.head()"
   ]
  },
  {
   "cell_type": "markdown",
   "metadata": {},
   "source": [
    "посмотрим на тип данных"
   ]
  },
  {
   "cell_type": "code",
   "execution_count": 39,
   "metadata": {},
   "outputs": [
    {
     "name": "stdout",
     "output_type": "stream",
     "text": [
      "<class 'pandas.core.frame.DataFrame'>\n",
      "RangeIndex: 6366 entries, 0 to 6365\n",
      "Data columns (total 9 columns):\n",
      "rate_marriage      6366 non-null float64\n",
      "age                6366 non-null float64\n",
      "yrs_married        6366 non-null float64\n",
      "children           6366 non-null float64\n",
      "religious          6366 non-null float64\n",
      "educ               6366 non-null float64\n",
      "occupation         6366 non-null float64\n",
      "occupation_husb    6366 non-null float64\n",
      "affair             6366 non-null int64\n",
      "dtypes: float64(8), int64(1)\n",
      "memory usage: 447.7 KB\n"
     ]
    }
   ],
   "source": [
    "data.info()"
   ]
  },
  {
   "cell_type": "code",
   "execution_count": 40,
   "metadata": {},
   "outputs": [
    {
     "data": {
      "text/plain": [
       "<BarContainer object of 5 artists>"
      ]
     },
     "execution_count": 40,
     "metadata": {},
     "output_type": "execute_result"
    },
    {
     "data": {
      "image/png": "[encoded data removed]",
      "text/plain": [
       "<Figure size 432x288 with 1 Axes>"
      ]
     },
     "metadata": {
      "needs_background": "light"
     },
     "output_type": "display_data"
    }
   ],
   "source": [
    "import matplotlib.pyplot as plt\n",
    "plt.bar(sorted(data.rate_marriage.unique(), reverse=True), data.rate_marriage.value_counts()/data.shape[0])"
   ]
  },
  {
   "cell_type": "markdown",
   "metadata": {},
   "source": [
    "видим, что самая большая доля оценок rate_marriage равна 5\n",
    "\n",
    "посмотрим на долю людей с романом на стороне в данном рейтинге"
   ]
  },
  {
   "cell_type": "code",
   "execution_count": 41,
   "metadata": {},
   "outputs": [
    {
     "data": {
      "text/plain": [
       "4.0    0.352655\n",
       "3.0    0.266439\n",
       "5.0    0.237214\n",
       "2.0    0.107647\n",
       "1.0    0.036045\n",
       "Name: rate_marriage, dtype: float64"
      ]
     },
     "execution_count": 41,
     "metadata": {},
     "output_type": "execute_result"
    }
   ],
   "source": [
    "data[data.affair==1].rate_marriage.value_counts()/data[data.affair==1].shape[0]"
   ]
  },
  {
   "cell_type": "markdown",
   "metadata": {},
   "source": [
    "порядок изменился - самую большую долю по изменам держат те, кто поставил рейтинг 4, на втором месте 3 и третьем 5, самое интересное, что совсем неудовлетворенные (рейтинг 1) браком можно сказать не имеют никого на стороне - думаю их можно исключить из выборки, чтобы не создавать помех модели"
   ]
  },
  {
   "cell_type": "code",
   "execution_count": 42,
   "metadata": {},
   "outputs": [],
   "source": [
    "data=data[data.rate_marriage!=1].copy()"
   ]
  },
  {
   "cell_type": "markdown",
   "metadata": {},
   "source": [
    "посмотрим на возраст"
   ]
  },
  {
   "cell_type": "code",
   "execution_count": 43,
   "metadata": {},
   "outputs": [
    {
     "data": {
      "text/plain": [
       "27.0    0.305090\n",
       "22.0    0.285623\n",
       "32.0    0.167066\n",
       "42.0    0.121589\n",
       "37.0    0.098612\n",
       "17.5    0.022020\n",
       "Name: age, dtype: float64"
      ]
     },
     "execution_count": 43,
     "metadata": {},
     "output_type": "execute_result"
    }
   ],
   "source": [
    "data.age.value_counts()/data.shape[0]"
   ]
  },
  {
   "cell_type": "markdown",
   "metadata": {},
   "source": [
    "больше всего респондентов в возрасте 27 и 22 года (в сумме 59%)\n",
    "\n",
    "посмотрим в каком возрасте больше всего имеют место романы на стороне"
   ]
  },
  {
   "cell_type": "code",
   "execution_count": 44,
   "metadata": {},
   "outputs": [
    {
     "data": {
      "text/plain": [
       "27.0    0.313795\n",
       "32.0    0.205659\n",
       "22.0    0.201617\n",
       "42.0    0.142496\n",
       "37.0    0.129864\n",
       "17.5    0.006569\n",
       "Name: age, dtype: float64"
      ]
     },
     "execution_count": 44,
     "metadata": {},
     "output_type": "execute_result"
    }
   ],
   "source": [
    "data[data['affair']==1].age.value_counts()/data[data['affair']==1].shape[0]"
   ]
  },
  {
   "cell_type": "markdown",
   "metadata": {},
   "source": [
    "больше всего романов в группе с возрастом 27 лет - 31%, \n",
    "\n",
    "думаю возраст 17,5 можно исключить из выборки, так как его доля 2%, а доля измен менее 1%, когда у всех остальных от 13% - шум"
   ]
  },
  {
   "cell_type": "code",
   "execution_count": 45,
   "metadata": {},
   "outputs": [
    {
     "data": {
      "text/html": [
       "<div>\n",
       "<style scoped>\n",
       "    .dataframe tbody tr th:only-of-type {\n",
       "        vertical-align: middle;\n",
       "    }\n",
       "\n",
       "    .dataframe tbody tr th {\n",
       "        vertical-align: top;\n",
       "    }\n",
       "\n",
       "    .dataframe thead th {\n",
       "        text-align: right;\n",
       "    }\n",
       "</style>\n",
       "<table border=\"1\" class=\"dataframe\">\n",
       "  <thead>\n",
       "    <tr style=\"text-align: right;\">\n",
       "      <th></th>\n",
       "      <th>rate_marriage</th>\n",
       "      <th>age</th>\n",
       "      <th>yrs_married</th>\n",
       "      <th>children</th>\n",
       "      <th>religious</th>\n",
       "      <th>educ</th>\n",
       "      <th>occupation</th>\n",
       "      <th>occupation_husb</th>\n",
       "      <th>affair</th>\n",
       "    </tr>\n",
       "  </thead>\n",
       "  <tbody>\n",
       "    <tr>\n",
       "      <th>0</th>\n",
       "      <td>3.0</td>\n",
       "      <td>32.0</td>\n",
       "      <td>9.0</td>\n",
       "      <td>3.0</td>\n",
       "      <td>3.0</td>\n",
       "      <td>17.0</td>\n",
       "      <td>2.0</td>\n",
       "      <td>5.0</td>\n",
       "      <td>1</td>\n",
       "    </tr>\n",
       "    <tr>\n",
       "      <th>1</th>\n",
       "      <td>3.0</td>\n",
       "      <td>27.0</td>\n",
       "      <td>13.0</td>\n",
       "      <td>3.0</td>\n",
       "      <td>1.0</td>\n",
       "      <td>14.0</td>\n",
       "      <td>3.0</td>\n",
       "      <td>4.0</td>\n",
       "      <td>1</td>\n",
       "    </tr>\n",
       "    <tr>\n",
       "      <th>2</th>\n",
       "      <td>4.0</td>\n",
       "      <td>22.0</td>\n",
       "      <td>2.5</td>\n",
       "      <td>0.0</td>\n",
       "      <td>1.0</td>\n",
       "      <td>16.0</td>\n",
       "      <td>3.0</td>\n",
       "      <td>5.0</td>\n",
       "      <td>1</td>\n",
       "    </tr>\n",
       "    <tr>\n",
       "      <th>3</th>\n",
       "      <td>4.0</td>\n",
       "      <td>37.0</td>\n",
       "      <td>16.5</td>\n",
       "      <td>4.0</td>\n",
       "      <td>3.0</td>\n",
       "      <td>16.0</td>\n",
       "      <td>5.0</td>\n",
       "      <td>5.0</td>\n",
       "      <td>1</td>\n",
       "    </tr>\n",
       "    <tr>\n",
       "      <th>4</th>\n",
       "      <td>5.0</td>\n",
       "      <td>27.0</td>\n",
       "      <td>9.0</td>\n",
       "      <td>1.0</td>\n",
       "      <td>1.0</td>\n",
       "      <td>14.0</td>\n",
       "      <td>3.0</td>\n",
       "      <td>4.0</td>\n",
       "      <td>1</td>\n",
       "    </tr>\n",
       "  </tbody>\n",
       "</table>\n",
       "</div>"
      ],
      "text/plain": [
       "   rate_marriage   age  yrs_married  children  religious  educ  occupation  \\\n",
       "0            3.0  32.0          9.0       3.0        3.0  17.0         2.0   \n",
       "1            3.0  27.0         13.0       3.0        1.0  14.0         3.0   \n",
       "2            4.0  22.0          2.5       0.0        1.0  16.0         3.0   \n",
       "3            4.0  37.0         16.5       4.0        3.0  16.0         5.0   \n",
       "4            5.0  27.0          9.0       1.0        1.0  14.0         3.0   \n",
       "\n",
       "   occupation_husb  affair  \n",
       "0              5.0       1  \n",
       "1              4.0       1  \n",
       "2              5.0       1  \n",
       "3              5.0       1  \n",
       "4              4.0       1  "
      ]
     },
     "execution_count": 45,
     "metadata": {},
     "output_type": "execute_result"
    }
   ],
   "source": [
    "data=data[data['age']!=17.5].copy()\n",
    "data.head()"
   ]
  },
  {
   "cell_type": "markdown",
   "metadata": {},
   "source": [
    "период в браке"
   ]
  },
  {
   "cell_type": "code",
   "execution_count": 47,
   "metadata": {},
   "outputs": [
    {
     "data": {
      "text/plain": [
       "2.5     0.317344\n",
       "6.0     0.184533\n",
       "16.5    0.129874\n",
       "23.0    0.127753\n",
       "9.0     0.097569\n",
       "13.0    0.093327\n",
       "0.5     0.049600\n",
       "Name: yrs_married, dtype: float64"
      ]
     },
     "execution_count": 47,
     "metadata": {},
     "output_type": "execute_result"
    }
   ],
   "source": [
    "data.yrs_married.value_counts()/data.shape[0]"
   ]
  },
  {
   "cell_type": "markdown",
   "metadata": {},
   "source": [
    "2,5 года - самый частый в этой выборке, посмотрим на долю целевой переменной"
   ]
  },
  {
   "cell_type": "code",
   "execution_count": 48,
   "metadata": {},
   "outputs": [
    {
     "data": {
      "text/plain": [
       "2.5     0.212106\n",
       "6.0     0.194303\n",
       "16.5    0.177518\n",
       "23.0    0.164293\n",
       "9.0     0.127670\n",
       "13.0    0.116989\n",
       "0.5     0.007121\n",
       "Name: yrs_married, dtype: float64"
      ]
     },
     "execution_count": 48,
     "metadata": {},
     "output_type": "execute_result"
    }
   ],
   "source": [
    "data[data['affair']==1].yrs_married.value_counts()/data[data['affair']==1].shape[0]"
   ]
  },
  {
   "cell_type": "markdown",
   "metadata": {},
   "source": [
    "2,5 года также лидер по количеству романов (21%), а вот 0,5 лет менее 1 процента - удалим из выборки (доля небольшая, зато значения будут более похожи на остальные) "
   ]
  },
  {
   "cell_type": "code",
   "execution_count": 49,
   "metadata": {},
   "outputs": [],
   "source": [
    "data=data[data['yrs_married']!=0.5].copy()"
   ]
  },
  {
   "cell_type": "markdown",
   "metadata": {},
   "source": [
    "посмотрим на количество детей и зависит ли доля измен от их количества"
   ]
  },
  {
   "cell_type": "code",
   "execution_count": 52,
   "metadata": {},
   "outputs": [
    {
     "data": {
      "text/plain": [
       "0.0    0.343176\n",
       "2.0    0.248584\n",
       "1.0    0.190043\n",
       "3.0    0.130472\n",
       "4.0    0.054421\n",
       "5.5    0.033305\n",
       "Name: children, dtype: float64"
      ]
     },
     "execution_count": 52,
     "metadata": {},
     "output_type": "execute_result"
    }
   ],
   "source": [
    "data.children.value_counts()/data.shape[0]"
   ]
  },
  {
   "cell_type": "markdown",
   "metadata": {},
   "source": [
    "больше всего в выборке людей без детей (34%), самый близкий к этому проценту результат - 2 ребенка (25%), \n",
    "\n",
    "есть значение 5,5 детей, возможно так отмечали всех более 5, либо это ошибка "
   ]
  },
  {
   "cell_type": "code",
   "execution_count": 54,
   "metadata": {},
   "outputs": [
    {
     "data": {
      "text/plain": [
       "2.0    0.299180\n",
       "0.0    0.242316\n",
       "1.0    0.201332\n",
       "3.0    0.155738\n",
       "4.0    0.064037\n",
       "5.5    0.037398\n",
       "Name: children, dtype: float64"
      ]
     },
     "execution_count": 54,
     "metadata": {},
     "output_type": "execute_result"
    }
   ],
   "source": [
    "data[data['affair']==1].children.value_counts()/data[data['affair']==1].shape[0]"
   ]
  },
  {
   "cell_type": "markdown",
   "metadata": {},
   "source": [
    "при двух детях количество романов 30%, а странная группа 5,5 имеет 4% положительных значений таргета и 3% долю наблюдений в наших данных - также уберем"
   ]
  },
  {
   "cell_type": "code",
   "execution_count": 57,
   "metadata": {},
   "outputs": [],
   "source": [
    "data=data[data['children']!=5.5].copy()"
   ]
  },
  {
   "cell_type": "markdown",
   "metadata": {},
   "source": [
    "рассмотрим religious - возможно религиозность"
   ]
  },
  {
   "cell_type": "code",
   "execution_count": 59,
   "metadata": {},
   "outputs": [
    {
     "data": {
      "text/plain": [
       "3.0    0.379329\n",
       "2.0    0.357130\n",
       "1.0    0.163559\n",
       "4.0    0.099982\n",
       "Name: religious, dtype: float64"
      ]
     },
     "execution_count": 59,
     "metadata": {},
     "output_type": "execute_result"
    }
   ],
   "source": [
    "data.religious.value_counts()/data.shape[0]"
   ]
  },
  {
   "cell_type": "code",
   "execution_count": 60,
   "metadata": {},
   "outputs": [
    {
     "data": {
      "text/plain": [
       "2.0    0.400745\n",
       "3.0    0.341671\n",
       "1.0    0.202767\n",
       "4.0    0.054816\n",
       "Name: religious, dtype: float64"
      ]
     },
     "execution_count": 60,
     "metadata": {},
     "output_type": "execute_result"
    }
   ],
   "source": [
    "data[data['affair']==1].religious.value_counts()/data[data['affair']==1].shape[0]"
   ]
  },
  {
   "cell_type": "markdown",
   "metadata": {},
   "source": [
    "максимально верущие имеют самый низкий процент измен\n",
    "\n",
    "изучим educ-образование (возможно в годах)"
   ]
  },
  {
   "cell_type": "code",
   "execution_count": 63,
   "metadata": {},
   "outputs": [
    {
     "data": {
      "text/plain": [
       "14.0    0.362991\n",
       "12.0    0.317350\n",
       "16.0    0.177411\n",
       "17.0    0.082223\n",
       "20.0    0.053277\n",
       "9.0     0.006748\n",
       "Name: educ, dtype: float64"
      ]
     },
     "execution_count": 63,
     "metadata": {},
     "output_type": "execute_result"
    }
   ],
   "source": [
    "data.educ.value_counts()/data.shape[0]"
   ]
  },
  {
   "cell_type": "code",
   "execution_count": 64,
   "metadata": {},
   "outputs": [
    {
     "data": {
      "text/plain": [
       "14.0    0.400213\n",
       "12.0    0.342735\n",
       "16.0    0.138371\n",
       "17.0    0.069186\n",
       "20.0    0.040979\n",
       "9.0     0.008515\n",
       "Name: educ, dtype: float64"
      ]
     },
     "execution_count": 64,
     "metadata": {},
     "output_type": "execute_result"
    }
   ],
   "source": [
    "data[data['affair']==1].educ.value_counts()/data[data['affair']==1].shape[0]"
   ]
  },
  {
   "cell_type": "markdown",
   "metadata": {},
   "source": [
    "видим, что в основном чем меньше значение educ, тем больше процент отношений на сторооне, исключение только значение 9 - и маленький процент от выборки и менее 1% изменяющих - удалим"
   ]
  },
  {
   "cell_type": "code",
   "execution_count": 65,
   "metadata": {},
   "outputs": [],
   "source": [
    "data=data[data['educ']!=9.0].copy()"
   ]
  },
  {
   "cell_type": "markdown",
   "metadata": {},
   "source": [
    "occupation - предположу, что это трудовая занятость"
   ]
  },
  {
   "cell_type": "code",
   "execution_count": 66,
   "metadata": {},
   "outputs": [
    {
     "data": {
      "text/plain": [
       "3.0    0.437511\n",
       "4.0    0.293760\n",
       "2.0    0.126408\n",
       "5.0    0.118362\n",
       "6.0    0.017879\n",
       "1.0    0.006079\n",
       "Name: occupation, dtype: float64"
      ]
     },
     "execution_count": 66,
     "metadata": {},
     "output_type": "execute_result"
    }
   ],
   "source": [
    "data.occupation.value_counts()/data.shape[0]"
   ]
  },
  {
   "cell_type": "code",
   "execution_count": 67,
   "metadata": {},
   "outputs": [
    {
     "data": {
      "text/plain": [
       "3.0    0.476114\n",
       "4.0    0.232958\n",
       "5.0    0.152442\n",
       "2.0    0.114868\n",
       "6.0    0.019860\n",
       "1.0    0.003757\n",
       "Name: occupation, dtype: float64"
      ]
     },
     "execution_count": 67,
     "metadata": {},
     "output_type": "execute_result"
    }
   ],
   "source": [
    "data[data['affair']==1].occupation.value_counts()/data[data['affair']==1].shape[0]"
   ]
  },
  {
   "cell_type": "markdown",
   "metadata": {},
   "source": [
    "1 - самая маленькая группа (менее одного процента) и в ней еще меньше романов - удалим, а вот 3 - почти половина всех наблюдений и половина из них имеет романы"
   ]
  },
  {
   "cell_type": "code",
   "execution_count": 68,
   "metadata": {},
   "outputs": [],
   "source": [
    "data=data[data['occupation']!=1.0].copy()"
   ]
  },
  {
   "cell_type": "markdown",
   "metadata": {},
   "source": [
    "occupation_husb - предположу, что это трудовая занятость партнера"
   ]
  },
  {
   "cell_type": "code",
   "execution_count": 69,
   "metadata": {},
   "outputs": [
    {
     "data": {
      "text/plain": [
       "4.0    0.322000\n",
       "5.0    0.282245\n",
       "2.0    0.197697\n",
       "6.0    0.086346\n",
       "3.0    0.078791\n",
       "1.0    0.032920\n",
       "Name: occupation_husb, dtype: float64"
      ]
     },
     "execution_count": 69,
     "metadata": {},
     "output_type": "execute_result"
    }
   ],
   "source": [
    "data.occupation_husb.value_counts()/data.shape[0]"
   ]
  },
  {
   "cell_type": "code",
   "execution_count": 70,
   "metadata": {},
   "outputs": [
    {
     "data": {
      "text/plain": [
       "4.0    0.309806\n",
       "5.0    0.294181\n",
       "2.0    0.204203\n",
       "3.0    0.086207\n",
       "6.0    0.081358\n",
       "1.0    0.024246\n",
       "Name: occupation_husb, dtype: float64"
      ]
     },
     "execution_count": 70,
     "metadata": {},
     "output_type": "execute_result"
    }
   ],
   "source": [
    "data[data['affair']==1].occupation_husb.value_counts()/data[data['affair']==1].shape[0]"
   ]
  },
  {
   "cell_type": "markdown",
   "metadata": {},
   "source": [
    "тут 4 - самая многочисленная категория, особых выбросов нет"
   ]
  },
  {
   "cell_type": "markdown",
   "metadata": {},
   "source": [
    "# построение модели"
   ]
  },
  {
   "cell_type": "markdown",
   "metadata": {},
   "source": [
    "отделим таргет"
   ]
  },
  {
   "cell_type": "code",
   "execution_count": 71,
   "metadata": {},
   "outputs": [],
   "source": [
    "y=data['affair']\n",
    "X=data.drop('affair', axis=1)"
   ]
  },
  {
   "cell_type": "markdown",
   "metadata": {},
   "source": [
    "сменим всем признакам тип на object"
   ]
  },
  {
   "cell_type": "code",
   "execution_count": 78,
   "metadata": {},
   "outputs": [
    {
     "name": "stdout",
     "output_type": "stream",
     "text": [
      "<class 'pandas.core.frame.DataFrame'>\n",
      "Int64Index: 5559 entries, 0 to 6365\n",
      "Data columns (total 8 columns):\n",
      "rate_marriage      5559 non-null object\n",
      "age                5559 non-null object\n",
      "yrs_married        5559 non-null object\n",
      "children           5559 non-null object\n",
      "religious          5559 non-null object\n",
      "educ               5559 non-null object\n",
      "occupation         5559 non-null object\n",
      "occupation_husb    5559 non-null object\n",
      "dtypes: object(8)\n",
      "memory usage: 390.9+ KB\n"
     ]
    }
   ],
   "source": [
    "for col in X.columns:\n",
    "    X[col]=X[col].astype(object)\n",
    "X.info()"
   ]
  },
  {
   "cell_type": "markdown",
   "metadata": {},
   "source": [
    "все переменные имеют ограниченное количество значений, скорее сгруппированные в некоторые группы - преобразуем их в dummy-переменные"
   ]
  },
  {
   "cell_type": "code",
   "execution_count": 81,
   "metadata": {},
   "outputs": [
    {
     "data": {
      "text/plain": [
       "Index(['rate_marriage_2.0', 'rate_marriage_3.0', 'rate_marriage_4.0',\n",
       "       'rate_marriage_5.0', 'age_22.0', 'age_27.0', 'age_32.0', 'age_37.0',\n",
       "       'age_42.0', 'yrs_married_2.5', 'yrs_married_6.0', 'yrs_married_9.0',\n",
       "       'yrs_married_13.0', 'yrs_married_16.5', 'yrs_married_23.0',\n",
       "       'children_0.0', 'children_1.0', 'children_2.0', 'children_3.0',\n",
       "       'children_4.0', 'religious_1.0', 'religious_2.0', 'religious_3.0',\n",
       "       'religious_4.0', 'educ_12.0', 'educ_14.0', 'educ_16.0', 'educ_17.0',\n",
       "       'educ_20.0', 'occupation_2.0', 'occupation_3.0', 'occupation_4.0',\n",
       "       'occupation_5.0', 'occupation_6.0', 'occupation_husb_1.0',\n",
       "       'occupation_husb_2.0', 'occupation_husb_3.0', 'occupation_husb_4.0',\n",
       "       'occupation_husb_5.0', 'occupation_husb_6.0'],\n",
       "      dtype='object')"
      ]
     },
     "execution_count": 81,
     "metadata": {},
     "output_type": "execute_result"
    }
   ],
   "source": [
    "X=pd.get_dummies(X)\n",
    "X.columns"
   ]
  },
  {
   "cell_type": "markdown",
   "metadata": {},
   "source": [
    "разобьем на тренировочную и тестовую выборки"
   ]
  },
  {
   "cell_type": "code",
   "execution_count": 82,
   "metadata": {},
   "outputs": [],
   "source": [
    "from sklearn.model_selection import train_test_split\n",
    "X_train, X_test, y_train, y_test = train_test_split(X, y, test_size = 0.3, random_state = 0)"
   ]
  },
  {
   "cell_type": "markdown",
   "metadata": {},
   "source": [
    "приведем к одному масштабу"
   ]
  },
  {
   "cell_type": "code",
   "execution_count": 83,
   "metadata": {},
   "outputs": [],
   "source": [
    "from sklearn.preprocessing import StandardScaler\n",
    "train_x_sc=pd.DataFrame(StandardScaler().fit_transform(X_train))\n",
    "test_x_sc=pd.DataFrame(StandardScaler().fit_transform(X_test))"
   ]
  },
  {
   "cell_type": "markdown",
   "metadata": {},
   "source": [
    "построим модель логистической регрессии"
   ]
  },
  {
   "cell_type": "code",
   "execution_count": 103,
   "metadata": {},
   "outputs": [],
   "source": [
    "from sklearn.linear_model import LogisticRegression\n",
    "logreg=LogisticRegression().fit(train_x_sc, y_train)\n",
    "y_train_predict = logreg.predict_proba(train_x_sc)\n",
    "y_test_predict = logreg.predict_proba(test_x_sc)"
   ]
  },
  {
   "cell_type": "code",
   "execution_count": 109,
   "metadata": {},
   "outputs": [
    {
     "name": "stdout",
     "output_type": "stream",
     "text": [
      "accuracy: 0.7146282973621103\n",
      "roc_auc_score: 0.634482658319692\n"
     ]
    }
   ],
   "source": [
    "import numpy as np\n",
    "from sklearn.metrics import accuracy_score, auc,roc_curve,roc_auc_score\n",
    "print('accuracy: {}'.format(accuracy_score(y_test, np.round(y_test_predict[:, 1]))))\n",
    "print('roc_auc_score: {}'.format(roc_auc_score(y_test, np.round(y_test_predict[:, 1]))))"
   ]
  },
  {
   "cell_type": "markdown",
   "metadata": {},
   "source": [
    "посчитаем AUC"
   ]
  },
  {
   "cell_type": "code",
   "execution_count": 137,
   "metadata": {},
   "outputs": [
    {
     "name": "stdout",
     "output_type": "stream",
     "text": [
      "best auc: 0.6494454383409954\n",
      "best random_state: 62\n"
     ]
    }
   ],
   "source": [
    "m_score=0\n",
    "best_score=0\n",
    "best_state=0\n",
    "best_state_list=[]\n",
    "\n",
    "for r_state in range(1,102,1):\n",
    "    X_train, X_test, y_train, y_test = train_test_split(X, y, test_size = 0.3, random_state = r_state)\n",
    "    \n",
    "    train_x_sc=pd.DataFrame(StandardScaler().fit_transform(X_train))\n",
    "    test_x_sc=pd.DataFrame(StandardScaler().fit_transform(X_test))\n",
    "    \n",
    "    logreg=LogisticRegression().fit(train_x_sc, y_train)\n",
    "    y_test_predict = logreg.predict(test_x_sc)\n",
    "\n",
    "    fpr, tpr, thres = roc_curve( y_test, y_test_predict)\n",
    "\n",
    "    m_score=auc( fpr, tpr )\n",
    "    best_state_list.append(m_score)\n",
    "    if m_score>best_score:\n",
    "        best_score=m_score\n",
    "        best_state=r_state\n",
    "        \n",
    "print('best auc: {}'.format(best_score))\n",
    "print('best random_state: {}'.format(best_state))\n",
    "# print(best_state_list)"
   ]
  },
  {
   "cell_type": "markdown",
   "metadata": {},
   "source": [
    "используем l1 и l2 и посмотрим на изменение AUC"
   ]
  },
  {
   "cell_type": "code",
   "execution_count": 142,
   "metadata": {},
   "outputs": [
    {
     "name": "stdout",
     "output_type": "stream",
     "text": [
      "l1 auc: 0.6146942123691468\n",
      "l2 auc: 0.6480853312284832\n"
     ]
    }
   ],
   "source": [
    "X_train, X_test, y_train, y_test = train_test_split(X, y, test_size = 0.3, random_state = 62)\n",
    "\n",
    "train_x_sc=pd.DataFrame(StandardScaler().fit_transform(X_train))\n",
    "test_x_sc=pd.DataFrame(StandardScaler().fit_transform(X_test))\n",
    "\n",
    "logreg1=LogisticRegression(penalty = 'l1', C = 0.01 ).fit(train_x_sc, y_train)\n",
    "y_test_predict1 = logreg1.predict(test_x_sc)\n",
    "\n",
    "logreg2=LogisticRegression(penalty = 'l2', C = 0.01 ).fit(train_x_sc, y_train)\n",
    "y_test_predict2 = logreg2.predict(test_x_sc)\n",
    "\n",
    "\n",
    "fpr1, tpr1, thres1 = roc_curve( y_test, y_test_predict1)\n",
    "fpr2, tpr2, thres2 = roc_curve( y_test, y_test_predict2)\n",
    "\n",
    "print('l1 auc: {}'.format(auc( fpr1, tpr1 )))\n",
    "print('l2 auc: {}'.format(auc( fpr2, tpr2 )))"
   ]
  },
  {
   "cell_type": "markdown",
   "metadata": {},
   "source": [
    "получается для l1 auc меньше"
   ]
  }
 ],
 "metadata": {
  "kernelspec": {
   "display_name": "Python 3",
   "language": "python",
   "name": "python3"
  },
  "language_info": {
   "codemirror_mode": {
    "name": "ipython",
    "version": 3
   },
   "file_extension": ".py",
   "mimetype": "text/x-python",
   "name": "python",
   "nbconvert_exporter": "python",
   "pygments_lexer": "ipython3",
   "version": "3.7.0"
  }
 },
 "nbformat": 4,
 "nbformat_minor": 2
}
