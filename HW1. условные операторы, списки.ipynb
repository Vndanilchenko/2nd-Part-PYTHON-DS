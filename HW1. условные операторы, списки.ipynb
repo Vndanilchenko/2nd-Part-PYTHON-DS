{
 "cells": [
  {
   "cell_type": "markdown",
   "metadata": {},
   "source": [
    "# ДЗ №1 PYTHON  "
   ]
  },
  {
   "cell_type": "markdown",
   "metadata": {},
   "source": [
    "Данильченко Вадим"
   ]
  },
  {
   "cell_type": "code",
   "execution_count": 23,
   "metadata": {},
   "outputs": [
    {
     "data": {
      "text/plain": [
       "True"
      ]
     },
     "execution_count": 23,
     "metadata": {},
     "output_type": "execute_result"
    }
   ],
   "source": [
    "# задание 1: сверка длины строк\n",
    "\"\"\"\n",
    "Даны 2 строки long_phrase и short_phrase. Напишите код, который проверяет действительно ли \n",
    "длинная фраза long_phrase длиннее короткой short_phrase. И выводит True или False в зависимости от результата сравнения.\n",
    "\"\"\"\n",
    "long_phrase = 'Насколько проще было бы писать программы, если бы не заказчики'\n",
    "short_phrase = '640Кб должно хватить для любых задач. Билл Гейтс (по легенде)'\n",
    "# первое решение\n",
    "long_phrase>short_phrase"
   ]
  },
  {
   "cell_type": "code",
   "execution_count": 25,
   "metadata": {},
   "outputs": [
    {
     "data": {
      "text/plain": [
       "True"
      ]
     },
     "execution_count": 25,
     "metadata": {},
     "output_type": "execute_result"
    }
   ],
   "source": [
    "#второе решение\n",
    "len(long_phrase)>len(short_phrase)"
   ]
  },
  {
   "cell_type": "code",
   "execution_count": 26,
   "metadata": {},
   "outputs": [
    {
     "name": "stdout",
     "output_type": "stream",
     "text": [
      "True\n"
     ]
    }
   ],
   "source": [
    "#третье решение\n",
    "if long_phrase>short_phrase :\n",
    "    print(True) \n",
    "else: \n",
    "    print(False)"
   ]
  },
  {
   "cell_type": "code",
   "execution_count": 103,
   "metadata": {},
   "outputs": [
    {
     "name": "stdout",
     "output_type": "stream",
     "text": [
      "\"а\" встречается чаще, чем \"и\"\n"
     ]
    }
   ],
   "source": [
    "# задание 2: сравнение частоты букв в строке\n",
    "\"\"\"\n",
    "Дана строка text. Определите какая из двух букв встречается в нем чаще - 'а' или 'и'.\n",
    "\"\"\"\n",
    "text = 'Если программист в 9-00 утра на работе, значит, он там и ночевал'\n",
    "n=0\n",
    "k=0\n",
    "# первое решение\n",
    "for i in range(0,len(text)):\n",
    "    if text[i]=='и':\n",
    "        n+=1\n",
    "    if text[i]=='а':\n",
    "        k+=1\n",
    "if n>k:\n",
    "    print('\"и\" встречается чаще, чем \"а\"')\n",
    "elif n<k:\n",
    "    print('\"а\" встречается чаще, чем \"и\"')\n",
    "else:\n",
    "    print('встречаются с одинаковой частотой')"
   ]
  },
  {
   "cell_type": "code",
   "execution_count": 115,
   "metadata": {},
   "outputs": [
    {
     "name": "stdout",
     "output_type": "stream",
     "text": [
      "\"а\" встречается чаще, чем \"и\"\n"
     ]
    }
   ],
   "source": [
    "#второе решение\n",
    "#сверим длину строки, убрав и и а\n",
    "if len(text.replace(\"а\",\"\"))>len(text.replace(\"и\",\"\")):\n",
    "    print('\"и\" встречается чаще, чем \"а\"')\n",
    "elif len(text.replace(\"а\",\"\"))<len(text.replace(\"и\",\"\")):\n",
    "    print('\"а\" встречается чаще, чем \"и\"')\n",
    "else:\n",
    "    print('встречаются с одинаковой частотой')"
   ]
  },
  {
   "cell_type": "code",
   "execution_count": 204,
   "metadata": {},
   "outputs": [
    {
     "name": "stdout",
     "output_type": "stream",
     "text": [
      "224059712\n"
     ]
    },
    {
     "data": {
      "text/plain": [
       "'Объем файла равен 213.68Mb'"
      ]
     },
     "execution_count": 204,
     "metadata": {},
     "output_type": "execute_result"
    }
   ],
   "source": [
    "# задание 3: переводим байты в мегабайты и форматируем\n",
    "\"\"\"\n",
    "Дано значение объема файла в байтах. Напишите перевод этого значения в мегабайты в формате:\n",
    "'Объем файла равен 213.68Mb'\n",
    "\"\"\"\n",
    "# первое решение\n",
    "#b=224059712\n",
    "b=int(input())\n",
    "mb=b/1024/1024\n",
    "'Объем файла равен %0.2fMb'%(mb)"
   ]
  },
  {
   "cell_type": "code",
   "execution_count": 205,
   "metadata": {},
   "outputs": [
    {
     "data": {
      "text/plain": [
       "'Объем файла равен 213.68Mb'"
      ]
     },
     "execution_count": 205,
     "metadata": {},
     "output_type": "execute_result"
    }
   ],
   "source": [
    "#второе решение\n",
    "'Объем файла равен {:.2f}Mb'.format(mb)"
   ]
  },
  {
   "cell_type": "code",
   "execution_count": 184,
   "metadata": {},
   "outputs": [
    {
     "data": {
      "text/plain": [
       "'Объем файла равен 213.68Mb'"
      ]
     },
     "execution_count": 184,
     "metadata": {},
     "output_type": "execute_result"
    }
   ],
   "source": [
    "#третье решение\n",
    "f'Объем файла равен {mb:.2f}Mb'"
   ]
  },
  {
   "cell_type": "code",
   "execution_count": 222,
   "metadata": {},
   "outputs": [
    {
     "data": {
      "text/plain": [
       "'синус 30ти градусов: 0.49999999999999994'"
      ]
     },
     "execution_count": 222,
     "metadata": {},
     "output_type": "execute_result"
    }
   ],
   "source": [
    "# задание 4: Выведите на экран значение синуса 30 градусов с помощью метода math.sin\n",
    "import math as m\n",
    "angle=30*m.pi/180\n",
    "f'синус 30ти градусов: {m.sin(angle)}'"
   ]
  },
  {
   "cell_type": "code",
   "execution_count": 221,
   "metadata": {},
   "outputs": [
    {
     "data": {
      "text/plain": [
       "0.30000000000000004"
      ]
     },
     "execution_count": 221,
     "metadata": {},
     "output_type": "execute_result"
    }
   ],
   "source": [
    "# задание 5:\n",
    "\"\"\"\n",
    "Попробуйте вывести на экран результат операции 0.1 + 0.2\n",
    "\"\"\"\n",
    "0.1+0.2"
   ]
  },
  {
   "cell_type": "code",
   "execution_count": 231,
   "metadata": {},
   "outputs": [
    {
     "data": {
      "text/plain": [
       "'новые a=3100 b=6'"
      ]
     },
     "execution_count": 231,
     "metadata": {},
     "output_type": "execute_result"
    }
   ],
   "source": [
    "# задание 6:\n",
    "\"\"\"\n",
    "В переменных a и b записаны 2 различных числа. \n",
    "Вам необходимо написать код, который меняет значения a и b местами без использования третьей переменной.\n",
    "\"\"\"\n",
    "a=6\n",
    "b=3100\n",
    "b=b-a\n",
    "a=b+a\n",
    "b=a-b\n",
    "f'новые a={a} b={b}'"
   ]
  },
  {
   "cell_type": "code",
   "execution_count": 290,
   "metadata": {},
   "outputs": [
    {
     "data": {
      "text/plain": [
       "'результат преобразования двоичного числа num=10011 в десятичную систему=19'"
      ]
     },
     "execution_count": 290,
     "metadata": {},
     "output_type": "execute_result"
    }
   ],
   "source": [
    "# задание 7:\n",
    "\"\"\"\n",
    "Дано число в двоичной системе счисления: num=10011. Напишите алгоритм перевода этого числа в привычную нам \n",
    "десятичную систему счисления. Возможно, вам понадобится цикл прохождения всех целых чисел от 0 до m:\n",
    "for n in range(m)\n",
    "\"\"\"\n",
    "n=0\n",
    "res=0\n",
    "num=10011\n",
    "str_num=str(num)\n",
    "for i in range(len(str_num)-1,-1,-1):\n",
    "    n+=1\n",
    "    #print(str_num[n-1]+'*2**'+ str(i))\n",
    "    res=res+int(str_num[n-1])*2**i\n",
    "f'результат преобразования двоичного числа num=10011 в десятичную систему={res}'"
   ]
  }
 ],
 "metadata": {
  "kernelspec": {
   "display_name": "Python 3",
   "language": "python",
   "name": "python3"
  },
  "language_info": {
   "codemirror_mode": {
    "name": "ipython",
    "version": 3
   },
   "file_extension": ".py",
   "mimetype": "text/x-python",
   "name": "python",
   "nbconvert_exporter": "python",
   "pygments_lexer": "ipython3",
   "version": "3.7.0"
  }
 },
 "nbformat": 4,
 "nbformat_minor": 2
}
