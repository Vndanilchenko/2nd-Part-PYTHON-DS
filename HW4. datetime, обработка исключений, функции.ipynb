{
 "cells": [
  {
   "cell_type": "markdown",
   "metadata": {},
   "source": [
    "# ДОМАШНЯЯ РАБОТА №4"
   ]
  },
  {
   "cell_type": "markdown",
   "metadata": {},
   "source": [
    "Данильченко Вадим"
   ]
  },
  {
   "cell_type": "code",
   "execution_count": 10,
   "metadata": {},
   "outputs": [
    {
     "name": "stdout",
     "output_type": "stream",
     "text": [
      "8 days, 0:00:00\n"
     ]
    }
   ],
   "source": [
    "#Задание 1: дни между дтами\n",
    "\"\"\"\n",
    "Напишите функцию date_range, которая возвращает список дней между датами start_date и end_date. \n",
    "Даты должны вводиться в формате YYYY-MM-DD.\n",
    "\"\"\""
   ]
  },
  {
   "cell_type": "code",
   "execution_count": 28,
   "metadata": {},
   "outputs": [
    {
     "data": {
      "text/plain": [
       "'8 дней между \"2018-12-01\" и \"2018-12-09\": [1, 2, 3, 4, 5, 6, 7, 8]'"
      ]
     },
     "execution_count": 28,
     "metadata": {},
     "output_type": "execute_result"
    }
   ],
   "source": [
    "#Решение 1: правую границу интервала не включаем, левую включаем, т.к. считаем полным днем с 00:00:00\n",
    "def datediff(start_date, end_date):\n",
    "    from datetime import datetime\n",
    "    difference=datetime.strptime(end_date,'%Y-%m-%d')-datetime.strptime(start_date,'%Y-%m-%d')\n",
    "    return f'{difference.days} дней между \"{start_date}\" и \"{end_date}\": {list(range(1,difference.days+1))}'\n",
    "datediff(start_date='2018-12-01', end_date='2018-12-09')"
   ]
  },
  {
   "cell_type": "code",
   "execution_count": 42,
   "metadata": {},
   "outputs": [
    {
     "data": {
      "text/plain": [
       "'8 дней между \"2018-12-01\" и \"2018-12-09\": [1, 2, 3, 4, 5, 6, 7, 8]'"
      ]
     },
     "execution_count": 42,
     "metadata": {},
     "output_type": "execute_result"
    }
   ],
   "source": [
    "#Решение 2\n",
    "def datediff2(start_date, end_date):\n",
    "    from datetime import date\n",
    "    s_date=[int(i) for i in start_date.split('-')]\n",
    "    e_date=[int(i) for i in end_date.split('-')]\n",
    "    difference=date(e_date[0],e_date[1],e_date[2])-date(s_date[0],s_date[1],s_date[2])\n",
    "    return f'{difference.days} дней между \"{start_date}\" и \"{end_date}\": {list(range(1,difference.days+1))}'\n",
    "datediff2(start_date='2018-12-01', end_date='2018-12-09')"
   ]
  },
  {
   "cell_type": "code",
   "execution_count": 41,
   "metadata": {},
   "outputs": [
    {
     "data": {
      "text/plain": [
       "'8 дней между \"2018-12-01\" и \"2018-12-09\": [1, 2, 3, 4, 5, 6, 7, 8]'"
      ]
     },
     "execution_count": 41,
     "metadata": {},
     "output_type": "execute_result"
    }
   ],
   "source": [
    "#Задание 2: добавляем проверку дат\n",
    "\"\"\"\n",
    "Дополните функцию из первого задания проверкой на корректность дат. \n",
    "В случае неверного формата или если start_date > end_date должен возвращаться пустой список.\n",
    "\"\"\""
   ]
  },
  {
   "cell_type": "code",
   "execution_count": 75,
   "metadata": {},
   "outputs": [
    {
     "data": {
      "text/plain": [
       "'8 дней между \"2018.12.01 00:00:00\" и \"2018-12-09\": [1, 2, 3, 4, 5, 6, 7, 8]'"
      ]
     },
     "execution_count": 75,
     "metadata": {},
     "output_type": "execute_result"
    }
   ],
   "source": [
    "#Решение\n",
    "#функция проверки формата и преобразования даты, в нее передается каждая дата из основной функции\n",
    "def date_converter(any_date):\n",
    "    try:\n",
    "        return datetime.strptime(any_date,'%Y-%m-%d')\n",
    "    except ValueError:\n",
    "        try:\n",
    "            return datetime.strptime(any_date,'%Y-%m-%d %H:%M')\n",
    "        except ValueError:\n",
    "            try:\n",
    "                return datetime.strptime(any_date,'%Y-%m-%d %H:%M:%S')\n",
    "            except ValueError:\n",
    "                try:\n",
    "                    return datetime.strptime(any_date,'%Y.%m.%d %H:%M:%S')\n",
    "                except ValueError:                  \n",
    "                    try:\n",
    "                        return datetime.strptime(any_date,'%y-%m-%d')\n",
    "                    except ValueError:\n",
    "                        try:\n",
    "                            return datetime.strptime(any_date,'%Y.%m.%d')\n",
    "                        except ValueError:\n",
    "                            return 'error1: undefined format'\n",
    "\n",
    "#основная функция, считает разницу между датами и выводит список дней или ошибку\n",
    "\n",
    "def datediff_modified(start_date, end_date):\n",
    "    from datetime import datetime\n",
    "    try:\n",
    "        if date_converter(end_date)=='error1: undefined format':\n",
    "            return f'error1: undefined format for \"{end_date}\"'\n",
    "        elif date_converter(start_date)=='error1: undefined format':\n",
    "            return f'error1: undefined format for \"{start_date}\"'\n",
    "        else:\n",
    "            date_converter(start_date)\n",
    "            difference=date_converter(end_date)-date_converter(start_date)\n",
    "            return f'{difference.days} дней между \"{start_date}\" и \"{end_date}\": {list(range(1,difference.days+1))}'\n",
    "    except:\n",
    "        return 'error2'\n",
    "\n",
    "\n",
    "#datediff_modified(start_date='2018-12-01 00:00', end_date='18-12-09') #посчитает\n",
    "#datediff_modified(start_date='2018-12-01 00:00:00', end_date='2018.12.09') #посчитает\n",
    "datediff_modified(start_date='2018.12.01 00:00:00', end_date='2018-12-09') #посчитает\n",
    "#datediff_modified(start_date='2018-12-01 00:00', end_date='18-12-09 01:00pm') #выдаст ошибку\n"
   ]
  },
  {
   "cell_type": "code",
   "execution_count": 91,
   "metadata": {},
   "outputs": [],
   "source": [
    "#Задание 3: проверка даты на корректность и соответствие формату YYYY-MM-DD\n",
    "\"\"\"\n",
    "Дан поток дат в формате YYYY-MM-DD, в которых встречаются некорректные значения.\n",
    "Напишите функцию, которая проверяет эти даты на корректность. \n",
    "Т. е. для каждой даты возвращает True (дата корректна) или False (некорректная дата). \n",
    "\"\"\"\n",
    "stream = ['2018-04-02', '2018-02-29', '2018-19-02']"
   ]
  },
  {
   "cell_type": "code",
   "execution_count": 90,
   "metadata": {},
   "outputs": [
    {
     "name": "stdout",
     "output_type": "stream",
     "text": [
      "дата \"2018-04-02\" корректна: True\n",
      "дата \"2018-02-29\" корректна: False\n",
      "дата \"2018-19-02\" корректна: False\n"
     ]
    }
   ],
   "source": [
    "#Решение: \n",
    "def check_date(any_date):\n",
    "    try:\n",
    "        datetime.strptime(any_date, '%Y-%m-%d')\n",
    "        return print('дата \"{}\" корректна: {}'.format(any_date, True))\n",
    "    except ValueError:\n",
    "        return print('дата \"{}\" корректна: {}'.format(any_date, False))\n",
    "\n",
    "for dt in stream:\n",
    "    check_date(dt)"
   ]
  },
  {
   "cell_type": "code",
   "execution_count": 1,
   "metadata": {},
   "outputs": [],
   "source": [
    "#Задание 4: список дней месяца до заданной даты\n",
    "\"\"\"\n",
    "Напишите функцию, которая возвращает список дат с 1 по вчерашний день текущего месяца. \n",
    "Если дан 1 день месяца, то возвращается список дней прошлого месяца.\n",
    "\"\"\""
   ]
  },
  {
   "cell_type": "code",
   "execution_count": 10,
   "metadata": {},
   "outputs": [
    {
     "data": {
      "text/plain": [
       "['2018-11-30',\n",
       " '2018-11-29',\n",
       " '2018-11-28',\n",
       " '2018-11-27',\n",
       " '2018-11-26',\n",
       " '2018-11-25',\n",
       " '2018-11-24',\n",
       " '2018-11-23',\n",
       " '2018-11-22',\n",
       " '2018-11-21',\n",
       " '2018-11-20',\n",
       " '2018-11-19',\n",
       " '2018-11-18',\n",
       " '2018-11-17',\n",
       " '2018-11-16',\n",
       " '2018-11-15',\n",
       " '2018-11-14',\n",
       " '2018-11-13',\n",
       " '2018-11-12',\n",
       " '2018-11-11',\n",
       " '2018-11-10',\n",
       " '2018-11-09',\n",
       " '2018-11-08',\n",
       " '2018-11-07',\n",
       " '2018-11-06',\n",
       " '2018-11-05',\n",
       " '2018-11-04',\n",
       " '2018-11-03',\n",
       " '2018-11-02',\n",
       " '2018-11-01']"
      ]
     },
     "execution_count": 10,
     "metadata": {},
     "output_type": "execute_result"
    }
   ],
   "source": [
    "#Решение\n",
    "def dates_from_1st_months_day(curr_date):\n",
    "    from datetime import datetime, timedelta\n",
    "    list_of_dates=[]\n",
    "    start_date=datetime.strptime(curr_date, '%Y-%m-%d')\n",
    "    start_date=start_date-timedelta(days=1)\n",
    "    end_date=datetime.strptime(start_date.strftime('%Y-%m-01'), '%Y-%m-%d')\n",
    "    while start_date>=end_date:\n",
    "        list_of_dates.append(start_date.strftime('%Y-%m-%d'))\n",
    "        start_date-=timedelta(days=1)    \n",
    "    return list_of_dates\n",
    "\n",
    "#dates_from_1st_months_day('2018-12-09') #вернет текущий месяц\n",
    "dates_from_1st_months_day('2018-12-01') #вернет прошлый месяц"
   ]
  },
  {
   "cell_type": "code",
   "execution_count": 12,
   "metadata": {},
   "outputs": [
    {
     "data": {
      "text/plain": [
       "\"\\nНапишите функцию, которая возвращает точную дату в формате YYYY-MM-DD по фразе:\\n1. 'today' - сегодняшнюю дату\\n2. 'last monday' -  прошлый понедельник\\n3. 'last day' - Последний день текущего месяца\\n\""
      ]
     },
     "execution_count": 12,
     "metadata": {},
     "output_type": "execute_result"
    }
   ],
   "source": [
    "#Задание 5: привязка расчета даты к фразе\n",
    "\"\"\"\n",
    "Напишите функцию, которая возвращает точную дату в формате YYYY-MM-DD по фразе:\n",
    "1. 'today' - сегодняшнюю дату\n",
    "2. 'last monday' -  прошлый понедельник\n",
    "3. 'last day' - Последний день текущего месяца\n",
    "\"\"\""
   ]
  },
  {
   "cell_type": "code",
   "execution_count": 97,
   "metadata": {},
   "outputs": [
    {
     "data": {
      "text/plain": [
       "'прошлый понедельник был 2018-12-03'"
      ]
     },
     "execution_count": 97,
     "metadata": {},
     "output_type": "execute_result"
    }
   ],
   "source": [
    "#Решение\n",
    "def date_commands(command):\n",
    "    from datetime import datetime,timedelta\n",
    "    from dateutil.relativedelta import relativedelta\n",
    "    \n",
    "    if command=='today':\n",
    "        today=datetime.today().strftime(\"%Y-%m-%d\")\n",
    "        return f'сегодня {today}'\n",
    "    elif command=='last monday':\n",
    "        last_monday=(datetime.today()-timedelta(days=datetime.today().weekday())).strftime(\"%Y-%m-%d\")\n",
    "        return f'прошлый понедельник был {last_monday}'\n",
    "    elif command=='last day':\n",
    "        last_day=(datetime.today()-timedelta(days=datetime.today().day)+relativedelta(months=1)).strftime(\"%Y-%m-%d\")\n",
    "        return f'последний день текущего месяца будет {last_day}'\n",
    "\n",
    "#date_commands('today')\n",
    "#date_commands('last day')\n",
    "date_commands('last monday')"
   ]
  },
  {
   "cell_type": "code",
   "execution_count": 98,
   "metadata": {},
   "outputs": [
    {
     "data": {
      "text/plain": [
       "'\\nНапишите функцию, которая разбивает на недели с понедельника по воскресенье интервал дат между start_date и end_date. \\nСчитайте, что входные данные всегда корректны. В ответ должны входить только полные недели.\\n'"
      ]
     },
     "execution_count": 98,
     "metadata": {},
     "output_type": "execute_result"
    }
   ],
   "source": [
    "#Задание 6: создадим недельные интервалы между датами, не включая недели дат, если они дают неполные недели\n",
    "\"\"\"\n",
    "Напишите функцию, которая разбивает на недели с понедельника по воскресенье интервал дат между start_date и end_date. \n",
    "Считайте, что входные данные всегда корректны. В ответ должны входить только полные недели.\n",
    "\"\"\""
   ]
  },
  {
   "cell_type": "code",
   "execution_count": 135,
   "metadata": {},
   "outputs": [
    {
     "data": {
      "text/plain": [
       "['с 2018-12-03 по 2018-12-09',\n",
       " 'с 2018-12-10 по 2018-12-16',\n",
       " 'с 2018-12-17 по 2018-12-23']"
      ]
     },
     "execution_count": 135,
     "metadata": {},
     "output_type": "execute_result"
    }
   ],
   "source": [
    "#Решение\n",
    "def full_weeks_between_dates(start_date, end_date):\n",
    "    s_date=datetime.strptime(start_date,'%Y-%m-%d')\n",
    "    e_date=datetime.strptime(end_date,'%Y-%m-%d')\n",
    "    curr_date=s_date\n",
    "    list_of_dates=[] #границы недель\n",
    "    list_of_weeks=[] #недели и их длина в днях\n",
    "    week_len=0 #дней в неделе\n",
    "    while s_date<=curr_date<=e_date:\n",
    "        week_len+=1\n",
    "        #проверим первое значение\n",
    "        if curr_date==s_date:\n",
    "                #если пн, то добавляем один раз, а если вск, то левая граница равна правой\n",
    "                if curr_date.weekday()==6:\n",
    "                    list_of_dates.append(curr_date)\n",
    "                    list_of_dates.append(curr_date)\n",
    "                else:\n",
    "                    list_of_dates.append(curr_date)\n",
    "        else:\n",
    "            if curr_date.weekday()==0:\n",
    "                list_of_dates.append(curr_date)       \n",
    "            elif curr_date.weekday()==6:\n",
    "                list_of_dates.append(curr_date)\n",
    "                list_of_dates.append(week_len)\n",
    "                list_of_weeks.append(list_of_dates)\n",
    "                list_of_dates=[]    \n",
    "                week_len=0\n",
    "        curr_date+=timedelta(days=1)\n",
    "\n",
    "    return [f'с {line[0].strftime(\"%Y-%m-%d\")} по {line[1].strftime(\"%Y-%m-%d\")}' for line in list_of_weeks if line[2]==7]\n",
    "\n",
    "#вызовем функцию\n",
    "full_weeks_between_dates(start_date='2018-12-01', end_date='2018-12-29')"
   ]
  }
 ],
 "metadata": {
  "kernelspec": {
   "display_name": "Python 3",
   "language": "python",
   "name": "python3"
  },
  "language_info": {
   "codemirror_mode": {
    "name": "ipython",
    "version": 3
   },
   "file_extension": ".py",
   "mimetype": "text/x-python",
   "name": "python",
   "nbconvert_exporter": "python",
   "pygments_lexer": "ipython3",
   "version": "3.7.0"
  }
 },
 "nbformat": 4,
 "nbformat_minor": 2
}
